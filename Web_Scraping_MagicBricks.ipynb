{
 "cells": [
  {
   "cell_type": "code",
   "execution_count": 1,
   "id": "5ea2cd0f",
   "metadata": {},
   "outputs": [
    {
     "name": "stdout",
     "output_type": "stream",
     "text": [
      "             project           carpet_area           super_area bhk  \\\n",
      "0        Gagan Aviva   Carpet Area356 sqft                    0   2   \n",
      "1  Purva Emerald Bay                     0  Super Area1860 sqft   3   \n",
      "2       Chandrakamal   Carpet Area938 sqft                    0   2   \n",
      "3           MJ Opera   Carpet Area825 sqft                    0   2   \n",
      "4  Kingston Atlantis  Carpet Area1145 sqft                    0   3   \n",
      "\n",
      "                                            area      price floors  \n",
      "0                     Gagan Aviva, Kesnand, Pune  ₹42.4 Lac    N/A  \n",
      "1  Purva Emerald Bay, Keshav Nagar Mundhwa, Pune   ₹1.30 Cr    N/A  \n",
      "2             Chandrakamal, Shukrawar Peth, Pune   ₹1.76 Cr    N/A  \n",
      "3                          MJ Opera, Wakad, Pune    ₹91 Lac    N/A  \n",
      "4      Kingston Atlantis, NIBM Annexe Area, Pune   ₹1.09 Cr    N/A  \n"
     ]
    }
   ],
   "source": [
    "import pandas as pd\n",
    "import requests\n",
    "from bs4 import BeautifulSoup\n",
    "\n",
    "project = []\n",
    "carpet_area = []\n",
    "super_area = []\n",
    "bhk = []\n",
    "area = []\n",
    "price = []\n",
    "total_floor = []\n",
    "\n",
    "for page in range(100):\n",
    "    url = \"https://www.magicbricks.com/property-for-sale/residential-real-estate?bedroom=&proptype=Multistorey-Apartment,Builder-Floor-Apartment,Penthouse,Studio-Apartment&cityName=Pune&page={}\".format(page)\n",
    "    r = requests.get(url)\n",
    "    soup = BeautifulSoup(r.content, 'html.parser')\n",
    "\n",
    "    for i in soup.find_all('div', class_='mb-srp__card__container'):\n",
    "        project_elem = i.find('span', class_=\"mb-srp__card__developer--name--highlight\")\n",
    "        carpet_area_elem = i.find('div', {'data-summary': 'carpet-area', 'class': 'mb-srp__card__summary__list--item'})\n",
    "        super_area_elem = i.find('div', {'data-summary': 'super-area', 'class': 'mb-srp__card__summary__list--item'})\n",
    "        bhk_elem = i.find('h2', class_=\"mb-srp__card--title\")\n",
    "        floor_ele = i.find('div', {'data-summary': 'floor', 'class': 'mb-srp__card__summary__list--item'})\n",
    "        \n",
    "        if project_elem:\n",
    "            project.append(project_elem.text.strip())\n",
    "        else:\n",
    "            project.append('Unavailable')\n",
    "\n",
    "        if carpet_area_elem:\n",
    "            carpet_area.append(carpet_area_elem.text.strip())\n",
    "        else:\n",
    "            carpet_area.append(0)\n",
    "            \n",
    "        if super_area_elem:\n",
    "            super_area.append(super_area_elem.text.strip())\n",
    "        else:\n",
    "            super_area.append(0)\n",
    "\n",
    "        if bhk_elem:\n",
    "            bhk.append(bhk_elem.text.strip()[0])\n",
    "            area.append(bhk_elem.text.split('in ')[1].strip())\n",
    "        else:\n",
    "            bhk.append('N/A')\n",
    "            area.append('N/A')\n",
    "            \n",
    "        if floor_ele:\n",
    "            total_floor.append(floor_ele.text.strip())\n",
    "        else:\n",
    "            total_floor.append('N/A')\n",
    "\n",
    "    for j in soup.find_all('div', class_=\"mb-srp__card__estimate\"):\n",
    "        price_elem = j.find('div', class_=\"mb-srp__card__price--amount\")\n",
    "        \n",
    "        if price_elem:\n",
    "            price.append(price_elem.text.strip())\n",
    "        else:\n",
    "            price.append('N/A')\n",
    "\n",
    "# Create a DataFrame using the extracted data\n",
    "data = {\n",
    "    'project': project,\n",
    "    'carpet_area': carpet_area,\n",
    "    'super_area' : super_area,\n",
    "    'bhk': bhk,\n",
    "    'area': area,\n",
    "    'price': price,\n",
    "    'floors' : total_floor\n",
    "}\n",
    "\n",
    "df = pd.DataFrame(data)\n",
    "print(df.head())"
   ]
  },
  {
   "cell_type": "markdown",
   "id": "0330f269",
   "metadata": {},
   "source": [
    "## Preprocessing data"
   ]
  },
  {
   "cell_type": "code",
   "execution_count": 2,
   "id": "35041f34",
   "metadata": {},
   "outputs": [],
   "source": [
    "df['carpet_area'] = df['carpet_area'].str.extract('(\\d+)').astype(float).fillna(0).astype(int)"
   ]
  },
  {
   "cell_type": "code",
   "execution_count": 3,
   "id": "5b9675ad",
   "metadata": {},
   "outputs": [],
   "source": [
    "df['super_area'] = df['super_area'].str.extract('(\\d+)').astype(float).fillna(0).astype(int)"
   ]
  },
  {
   "cell_type": "code",
   "execution_count": 4,
   "id": "dcb51f97",
   "metadata": {},
   "outputs": [],
   "source": [
    "df['area'] = df['area'].apply(lambda x: x.split(', ')[1] if len(x.split(', ')) > 2 else x)"
   ]
  },
  {
   "cell_type": "code",
   "execution_count": 5,
   "id": "507093aa",
   "metadata": {},
   "outputs": [],
   "source": [
    "def convert_currency_to_numeric(price):\n",
    "    price = price.replace('₹', '')  # Remove currency symbol\n",
    "    if 'Cr' in price:  # Convert Crore to numeric\n",
    "        return float(price.replace('Cr', '')) * 10000000\n",
    "    elif 'Lac' in price:  # Convert Lac to numeric\n",
    "        return float(price.replace('Lac', '')) * 100000\n",
    "    else:\n",
    "        return float(price)  # Convert other formats directly\n",
    "    \n",
    "# Applying the conversion function to 'price' column\n",
    "df['price'] = df['price'].apply(convert_currency_to_numeric).astype('int')"
   ]
  },
  {
   "cell_type": "code",
   "execution_count": 7,
   "id": "73f29a7b",
   "metadata": {},
   "outputs": [],
   "source": [
    "df['floors'] = df['floors'].apply(lambda x: x.split()[-1])"
   ]
  },
  {
   "cell_type": "code",
   "execution_count": 8,
   "id": "1e12970c",
   "metadata": {},
   "outputs": [],
   "source": [
    "df.to_csv('house_prices.csv', index=False)"
   ]
  },
  {
   "cell_type": "code",
   "execution_count": null,
   "id": "303f6544",
   "metadata": {},
   "outputs": [],
   "source": []
  }
 ],
 "metadata": {
  "kernelspec": {
   "display_name": "Python 3 (ipykernel)",
   "language": "python",
   "name": "python3"
  },
  "language_info": {
   "codemirror_mode": {
    "name": "ipython",
    "version": 3
   },
   "file_extension": ".py",
   "mimetype": "text/x-python",
   "name": "python",
   "nbconvert_exporter": "python",
   "pygments_lexer": "ipython3",
   "version": "3.9.13"
  }
 },
 "nbformat": 4,
 "nbformat_minor": 5
}
